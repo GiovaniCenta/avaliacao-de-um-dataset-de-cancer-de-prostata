{
  "cells": [
    {
      "cell_type": "code",
      "execution_count": 1,
      "id": "7acbebc1",
      "metadata": {
        "id": "7acbebc1"
      },
      "outputs": [],
      "source": [
        "import pandas as pd \n",
        "import numpy as np\n",
        "from sklearn.preprocessing import MinMaxScaler"
      ]
    },
    {
      "cell_type": "markdown",
      "id": "2bcdf973",
      "metadata": {
        "id": "2bcdf973"
      },
      "source": [
        "Ler o data set,\n",
        "\n",
        "Ter uma visão geral dos atributos e da classe\n",
        "\n",
        "8 Atributos e 1 classe binária -> M ou B (será convertida para 0 ou 1)"
      ]
    },
    {
      "cell_type": "code",
      "execution_count": 2,
      "id": "5d6dccf3",
      "metadata": {
        "colab": {
          "base_uri": "https://localhost:8080/",
          "height": 225
        },
        "id": "5d6dccf3",
        "outputId": "c3d23f81-4e18-4a0c-a801-ab9445d2038d"
      },
      "outputs": [
        {
          "output_type": "stream",
          "name": "stdout",
          "text": [
            "Mounted at /content/drive\n"
          ]
        },
        {
          "output_type": "execute_result",
          "data": {
            "text/plain": [
              "   id diagnosis_result  radius  texture  perimeter  area  smoothness  \\\n",
              "0   1                M      23       12        151   954       0.143   \n",
              "1   2                B       9       13        133  1326       0.143   \n",
              "2   3                M      21       27        130  1203       0.125   \n",
              "3   4                M      14       16         78   386       0.070   \n",
              "4   5                M       9       19        135  1297       0.141   \n",
              "\n",
              "   compactness  symmetry  fractal_dimension  \n",
              "0        0.278     0.242              0.079  \n",
              "1        0.079     0.181              0.057  \n",
              "2        0.160     0.207              0.060  \n",
              "3        0.284     0.260              0.097  \n",
              "4        0.133     0.181              0.059  "
            ],
            "text/html": [
              "\n",
              "  <div id=\"df-36c2ea1a-bf6a-46ad-858a-95248eda0a8a\">\n",
              "    <div class=\"colab-df-container\">\n",
              "      <div>\n",
              "<style scoped>\n",
              "    .dataframe tbody tr th:only-of-type {\n",
              "        vertical-align: middle;\n",
              "    }\n",
              "\n",
              "    .dataframe tbody tr th {\n",
              "        vertical-align: top;\n",
              "    }\n",
              "\n",
              "    .dataframe thead th {\n",
              "        text-align: right;\n",
              "    }\n",
              "</style>\n",
              "<table border=\"1\" class=\"dataframe\">\n",
              "  <thead>\n",
              "    <tr style=\"text-align: right;\">\n",
              "      <th></th>\n",
              "      <th>id</th>\n",
              "      <th>diagnosis_result</th>\n",
              "      <th>radius</th>\n",
              "      <th>texture</th>\n",
              "      <th>perimeter</th>\n",
              "      <th>area</th>\n",
              "      <th>smoothness</th>\n",
              "      <th>compactness</th>\n",
              "      <th>symmetry</th>\n",
              "      <th>fractal_dimension</th>\n",
              "    </tr>\n",
              "  </thead>\n",
              "  <tbody>\n",
              "    <tr>\n",
              "      <th>0</th>\n",
              "      <td>1</td>\n",
              "      <td>M</td>\n",
              "      <td>23</td>\n",
              "      <td>12</td>\n",
              "      <td>151</td>\n",
              "      <td>954</td>\n",
              "      <td>0.143</td>\n",
              "      <td>0.278</td>\n",
              "      <td>0.242</td>\n",
              "      <td>0.079</td>\n",
              "    </tr>\n",
              "    <tr>\n",
              "      <th>1</th>\n",
              "      <td>2</td>\n",
              "      <td>B</td>\n",
              "      <td>9</td>\n",
              "      <td>13</td>\n",
              "      <td>133</td>\n",
              "      <td>1326</td>\n",
              "      <td>0.143</td>\n",
              "      <td>0.079</td>\n",
              "      <td>0.181</td>\n",
              "      <td>0.057</td>\n",
              "    </tr>\n",
              "    <tr>\n",
              "      <th>2</th>\n",
              "      <td>3</td>\n",
              "      <td>M</td>\n",
              "      <td>21</td>\n",
              "      <td>27</td>\n",
              "      <td>130</td>\n",
              "      <td>1203</td>\n",
              "      <td>0.125</td>\n",
              "      <td>0.160</td>\n",
              "      <td>0.207</td>\n",
              "      <td>0.060</td>\n",
              "    </tr>\n",
              "    <tr>\n",
              "      <th>3</th>\n",
              "      <td>4</td>\n",
              "      <td>M</td>\n",
              "      <td>14</td>\n",
              "      <td>16</td>\n",
              "      <td>78</td>\n",
              "      <td>386</td>\n",
              "      <td>0.070</td>\n",
              "      <td>0.284</td>\n",
              "      <td>0.260</td>\n",
              "      <td>0.097</td>\n",
              "    </tr>\n",
              "    <tr>\n",
              "      <th>4</th>\n",
              "      <td>5</td>\n",
              "      <td>M</td>\n",
              "      <td>9</td>\n",
              "      <td>19</td>\n",
              "      <td>135</td>\n",
              "      <td>1297</td>\n",
              "      <td>0.141</td>\n",
              "      <td>0.133</td>\n",
              "      <td>0.181</td>\n",
              "      <td>0.059</td>\n",
              "    </tr>\n",
              "  </tbody>\n",
              "</table>\n",
              "</div>\n",
              "      <button class=\"colab-df-convert\" onclick=\"convertToInteractive('df-36c2ea1a-bf6a-46ad-858a-95248eda0a8a')\"\n",
              "              title=\"Convert this dataframe to an interactive table.\"\n",
              "              style=\"display:none;\">\n",
              "        \n",
              "  <svg xmlns=\"http://www.w3.org/2000/svg\" height=\"24px\"viewBox=\"0 0 24 24\"\n",
              "       width=\"24px\">\n",
              "    <path d=\"M0 0h24v24H0V0z\" fill=\"none\"/>\n",
              "    <path d=\"M18.56 5.44l.94 2.06.94-2.06 2.06-.94-2.06-.94-.94-2.06-.94 2.06-2.06.94zm-11 1L8.5 8.5l.94-2.06 2.06-.94-2.06-.94L8.5 2.5l-.94 2.06-2.06.94zm10 10l.94 2.06.94-2.06 2.06-.94-2.06-.94-.94-2.06-.94 2.06-2.06.94z\"/><path d=\"M17.41 7.96l-1.37-1.37c-.4-.4-.92-.59-1.43-.59-.52 0-1.04.2-1.43.59L10.3 9.45l-7.72 7.72c-.78.78-.78 2.05 0 2.83L4 21.41c.39.39.9.59 1.41.59.51 0 1.02-.2 1.41-.59l7.78-7.78 2.81-2.81c.8-.78.8-2.07 0-2.86zM5.41 20L4 18.59l7.72-7.72 1.47 1.35L5.41 20z\"/>\n",
              "  </svg>\n",
              "      </button>\n",
              "      \n",
              "  <style>\n",
              "    .colab-df-container {\n",
              "      display:flex;\n",
              "      flex-wrap:wrap;\n",
              "      gap: 12px;\n",
              "    }\n",
              "\n",
              "    .colab-df-convert {\n",
              "      background-color: #E8F0FE;\n",
              "      border: none;\n",
              "      border-radius: 50%;\n",
              "      cursor: pointer;\n",
              "      display: none;\n",
              "      fill: #1967D2;\n",
              "      height: 32px;\n",
              "      padding: 0 0 0 0;\n",
              "      width: 32px;\n",
              "    }\n",
              "\n",
              "    .colab-df-convert:hover {\n",
              "      background-color: #E2EBFA;\n",
              "      box-shadow: 0px 1px 2px rgba(60, 64, 67, 0.3), 0px 1px 3px 1px rgba(60, 64, 67, 0.15);\n",
              "      fill: #174EA6;\n",
              "    }\n",
              "\n",
              "    [theme=dark] .colab-df-convert {\n",
              "      background-color: #3B4455;\n",
              "      fill: #D2E3FC;\n",
              "    }\n",
              "\n",
              "    [theme=dark] .colab-df-convert:hover {\n",
              "      background-color: #434B5C;\n",
              "      box-shadow: 0px 1px 3px 1px rgba(0, 0, 0, 0.15);\n",
              "      filter: drop-shadow(0px 1px 2px rgba(0, 0, 0, 0.3));\n",
              "      fill: #FFFFFF;\n",
              "    }\n",
              "  </style>\n",
              "\n",
              "      <script>\n",
              "        const buttonEl =\n",
              "          document.querySelector('#df-36c2ea1a-bf6a-46ad-858a-95248eda0a8a button.colab-df-convert');\n",
              "        buttonEl.style.display =\n",
              "          google.colab.kernel.accessAllowed ? 'block' : 'none';\n",
              "\n",
              "        async function convertToInteractive(key) {\n",
              "          const element = document.querySelector('#df-36c2ea1a-bf6a-46ad-858a-95248eda0a8a');\n",
              "          const dataTable =\n",
              "            await google.colab.kernel.invokeFunction('convertToInteractive',\n",
              "                                                     [key], {});\n",
              "          if (!dataTable) return;\n",
              "\n",
              "          const docLinkHtml = 'Like what you see? Visit the ' +\n",
              "            '<a target=\"_blank\" href=https://colab.research.google.com/notebooks/data_table.ipynb>data table notebook</a>'\n",
              "            + ' to learn more about interactive tables.';\n",
              "          element.innerHTML = '';\n",
              "          dataTable['output_type'] = 'display_data';\n",
              "          await google.colab.output.renderOutput(dataTable, element);\n",
              "          const docLink = document.createElement('div');\n",
              "          docLink.innerHTML = docLinkHtml;\n",
              "          element.appendChild(docLink);\n",
              "        }\n",
              "      </script>\n",
              "    </div>\n",
              "  </div>\n",
              "  "
            ]
          },
          "metadata": {},
          "execution_count": 2
        }
      ],
      "source": [
        "from google.colab import drive\n",
        "drive.mount('/content/drive')\n",
        "df = pd.read_csv('/content/drive/My Drive/Prostate_Cancer.csv')\n",
        "df.head(5)"
      ]
    },
    {
      "cell_type": "raw",
      "id": "fe54011b",
      "metadata": {
        "id": "fe54011b"
      },
      "source": [
        "-> Avaliando os dados"
      ]
    },
    {
      "cell_type": "code",
      "execution_count": 3,
      "id": "fde65acf",
      "metadata": {
        "colab": {
          "base_uri": "https://localhost:8080/"
        },
        "id": "fde65acf",
        "outputId": "8152bc54-77b2-48cf-cda5-933c0a72d9b7"
      },
      "outputs": [
        {
          "output_type": "stream",
          "name": "stdout",
          "text": [
            "<class 'pandas.core.frame.DataFrame'>\n",
            "RangeIndex: 100 entries, 0 to 99\n",
            "Data columns (total 10 columns):\n",
            " #   Column             Non-Null Count  Dtype  \n",
            "---  ------             --------------  -----  \n",
            " 0   id                 100 non-null    int64  \n",
            " 1   diagnosis_result   100 non-null    object \n",
            " 2   radius             100 non-null    int64  \n",
            " 3   texture            100 non-null    int64  \n",
            " 4   perimeter          100 non-null    int64  \n",
            " 5   area               100 non-null    int64  \n",
            " 6   smoothness         100 non-null    float64\n",
            " 7   compactness        100 non-null    float64\n",
            " 8   symmetry           100 non-null    float64\n",
            " 9   fractal_dimension  100 non-null    float64\n",
            "dtypes: float64(4), int64(5), object(1)\n",
            "memory usage: 7.9+ KB\n"
          ]
        }
      ],
      "source": [
        "#entradas e tipos dos dados\n",
        "df.info()"
      ]
    },
    {
      "cell_type": "code",
      "execution_count": 4,
      "id": "24f200d5",
      "metadata": {
        "colab": {
          "base_uri": "https://localhost:8080/"
        },
        "id": "24f200d5",
        "outputId": "43191753-2d26-4e1e-e4db-915687305849"
      },
      "outputs": [
        {
          "output_type": "execute_result",
          "data": {
            "text/plain": [
              "id                   0\n",
              "diagnosis_result     0\n",
              "radius               0\n",
              "texture              0\n",
              "perimeter            0\n",
              "area                 0\n",
              "smoothness           0\n",
              "compactness          0\n",
              "symmetry             0\n",
              "fractal_dimension    0\n",
              "dtype: int64"
            ]
          },
          "metadata": {},
          "execution_count": 4
        }
      ],
      "source": [
        "#existem valores faltantes?\n",
        "df.isna().sum()"
      ]
    },
    {
      "cell_type": "code",
      "execution_count": 5,
      "id": "953d9080",
      "metadata": {
        "id": "953d9080"
      },
      "outputs": [],
      "source": [
        "#convertendo a classe para 0 ou 1\n",
        "df=df.replace({'diagnosis_result':{'M':0,'B':1}})"
      ]
    },
    {
      "cell_type": "code",
      "execution_count": 6,
      "id": "482f5bf5",
      "metadata": {
        "colab": {
          "base_uri": "https://localhost:8080/"
        },
        "id": "482f5bf5",
        "outputId": "af4d2478-7a19-4345-e553-2e4de0a45d94"
      },
      "outputs": [
        {
          "output_type": "execute_result",
          "data": {
            "text/plain": [
              "0     0\n",
              "1     1\n",
              "2     0\n",
              "3     0\n",
              "4     0\n",
              "     ..\n",
              "95    0\n",
              "96    1\n",
              "97    1\n",
              "98    1\n",
              "99    0\n",
              "Name: diagnosis_result, Length: 100, dtype: int64"
            ]
          },
          "metadata": {},
          "execution_count": 6
        }
      ],
      "source": [
        "df['diagnosis_result']"
      ]
    },
    {
      "cell_type": "code",
      "execution_count": 7,
      "id": "425dd402",
      "metadata": {
        "id": "425dd402"
      },
      "outputs": [],
      "source": [
        "#retirar a coluna ID\n",
        "df = df.drop(['id'],axis=1)"
      ]
    },
    {
      "cell_type": "code",
      "execution_count": 8,
      "id": "1f355a30",
      "metadata": {
        "colab": {
          "base_uri": "https://localhost:8080/",
          "height": 143
        },
        "id": "1f355a30",
        "outputId": "7f78cb78-1bb1-4a87-cf95-8179a1f4277a"
      },
      "outputs": [
        {
          "output_type": "execute_result",
          "data": {
            "text/plain": [
              "   diagnosis_result  radius  texture  perimeter  area  smoothness  \\\n",
              "0                 0      23       12        151   954       0.143   \n",
              "1                 1       9       13        133  1326       0.143   \n",
              "2                 0      21       27        130  1203       0.125   \n",
              "\n",
              "   compactness  symmetry  fractal_dimension  \n",
              "0        0.278     0.242              0.079  \n",
              "1        0.079     0.181              0.057  \n",
              "2        0.160     0.207              0.060  "
            ],
            "text/html": [
              "\n",
              "  <div id=\"df-ce276262-9f5e-4095-81b6-accf9c5e80b3\">\n",
              "    <div class=\"colab-df-container\">\n",
              "      <div>\n",
              "<style scoped>\n",
              "    .dataframe tbody tr th:only-of-type {\n",
              "        vertical-align: middle;\n",
              "    }\n",
              "\n",
              "    .dataframe tbody tr th {\n",
              "        vertical-align: top;\n",
              "    }\n",
              "\n",
              "    .dataframe thead th {\n",
              "        text-align: right;\n",
              "    }\n",
              "</style>\n",
              "<table border=\"1\" class=\"dataframe\">\n",
              "  <thead>\n",
              "    <tr style=\"text-align: right;\">\n",
              "      <th></th>\n",
              "      <th>diagnosis_result</th>\n",
              "      <th>radius</th>\n",
              "      <th>texture</th>\n",
              "      <th>perimeter</th>\n",
              "      <th>area</th>\n",
              "      <th>smoothness</th>\n",
              "      <th>compactness</th>\n",
              "      <th>symmetry</th>\n",
              "      <th>fractal_dimension</th>\n",
              "    </tr>\n",
              "  </thead>\n",
              "  <tbody>\n",
              "    <tr>\n",
              "      <th>0</th>\n",
              "      <td>0</td>\n",
              "      <td>23</td>\n",
              "      <td>12</td>\n",
              "      <td>151</td>\n",
              "      <td>954</td>\n",
              "      <td>0.143</td>\n",
              "      <td>0.278</td>\n",
              "      <td>0.242</td>\n",
              "      <td>0.079</td>\n",
              "    </tr>\n",
              "    <tr>\n",
              "      <th>1</th>\n",
              "      <td>1</td>\n",
              "      <td>9</td>\n",
              "      <td>13</td>\n",
              "      <td>133</td>\n",
              "      <td>1326</td>\n",
              "      <td>0.143</td>\n",
              "      <td>0.079</td>\n",
              "      <td>0.181</td>\n",
              "      <td>0.057</td>\n",
              "    </tr>\n",
              "    <tr>\n",
              "      <th>2</th>\n",
              "      <td>0</td>\n",
              "      <td>21</td>\n",
              "      <td>27</td>\n",
              "      <td>130</td>\n",
              "      <td>1203</td>\n",
              "      <td>0.125</td>\n",
              "      <td>0.160</td>\n",
              "      <td>0.207</td>\n",
              "      <td>0.060</td>\n",
              "    </tr>\n",
              "  </tbody>\n",
              "</table>\n",
              "</div>\n",
              "      <button class=\"colab-df-convert\" onclick=\"convertToInteractive('df-ce276262-9f5e-4095-81b6-accf9c5e80b3')\"\n",
              "              title=\"Convert this dataframe to an interactive table.\"\n",
              "              style=\"display:none;\">\n",
              "        \n",
              "  <svg xmlns=\"http://www.w3.org/2000/svg\" height=\"24px\"viewBox=\"0 0 24 24\"\n",
              "       width=\"24px\">\n",
              "    <path d=\"M0 0h24v24H0V0z\" fill=\"none\"/>\n",
              "    <path d=\"M18.56 5.44l.94 2.06.94-2.06 2.06-.94-2.06-.94-.94-2.06-.94 2.06-2.06.94zm-11 1L8.5 8.5l.94-2.06 2.06-.94-2.06-.94L8.5 2.5l-.94 2.06-2.06.94zm10 10l.94 2.06.94-2.06 2.06-.94-2.06-.94-.94-2.06-.94 2.06-2.06.94z\"/><path d=\"M17.41 7.96l-1.37-1.37c-.4-.4-.92-.59-1.43-.59-.52 0-1.04.2-1.43.59L10.3 9.45l-7.72 7.72c-.78.78-.78 2.05 0 2.83L4 21.41c.39.39.9.59 1.41.59.51 0 1.02-.2 1.41-.59l7.78-7.78 2.81-2.81c.8-.78.8-2.07 0-2.86zM5.41 20L4 18.59l7.72-7.72 1.47 1.35L5.41 20z\"/>\n",
              "  </svg>\n",
              "      </button>\n",
              "      \n",
              "  <style>\n",
              "    .colab-df-container {\n",
              "      display:flex;\n",
              "      flex-wrap:wrap;\n",
              "      gap: 12px;\n",
              "    }\n",
              "\n",
              "    .colab-df-convert {\n",
              "      background-color: #E8F0FE;\n",
              "      border: none;\n",
              "      border-radius: 50%;\n",
              "      cursor: pointer;\n",
              "      display: none;\n",
              "      fill: #1967D2;\n",
              "      height: 32px;\n",
              "      padding: 0 0 0 0;\n",
              "      width: 32px;\n",
              "    }\n",
              "\n",
              "    .colab-df-convert:hover {\n",
              "      background-color: #E2EBFA;\n",
              "      box-shadow: 0px 1px 2px rgba(60, 64, 67, 0.3), 0px 1px 3px 1px rgba(60, 64, 67, 0.15);\n",
              "      fill: #174EA6;\n",
              "    }\n",
              "\n",
              "    [theme=dark] .colab-df-convert {\n",
              "      background-color: #3B4455;\n",
              "      fill: #D2E3FC;\n",
              "    }\n",
              "\n",
              "    [theme=dark] .colab-df-convert:hover {\n",
              "      background-color: #434B5C;\n",
              "      box-shadow: 0px 1px 3px 1px rgba(0, 0, 0, 0.15);\n",
              "      filter: drop-shadow(0px 1px 2px rgba(0, 0, 0, 0.3));\n",
              "      fill: #FFFFFF;\n",
              "    }\n",
              "  </style>\n",
              "\n",
              "      <script>\n",
              "        const buttonEl =\n",
              "          document.querySelector('#df-ce276262-9f5e-4095-81b6-accf9c5e80b3 button.colab-df-convert');\n",
              "        buttonEl.style.display =\n",
              "          google.colab.kernel.accessAllowed ? 'block' : 'none';\n",
              "\n",
              "        async function convertToInteractive(key) {\n",
              "          const element = document.querySelector('#df-ce276262-9f5e-4095-81b6-accf9c5e80b3');\n",
              "          const dataTable =\n",
              "            await google.colab.kernel.invokeFunction('convertToInteractive',\n",
              "                                                     [key], {});\n",
              "          if (!dataTable) return;\n",
              "\n",
              "          const docLinkHtml = 'Like what you see? Visit the ' +\n",
              "            '<a target=\"_blank\" href=https://colab.research.google.com/notebooks/data_table.ipynb>data table notebook</a>'\n",
              "            + ' to learn more about interactive tables.';\n",
              "          element.innerHTML = '';\n",
              "          dataTable['output_type'] = 'display_data';\n",
              "          await google.colab.output.renderOutput(dataTable, element);\n",
              "          const docLink = document.createElement('div');\n",
              "          docLink.innerHTML = docLinkHtml;\n",
              "          element.appendChild(docLink);\n",
              "        }\n",
              "      </script>\n",
              "    </div>\n",
              "  </div>\n",
              "  "
            ]
          },
          "metadata": {},
          "execution_count": 8
        }
      ],
      "source": [
        "df.head(3)"
      ]
    },
    {
      "cell_type": "code",
      "execution_count": 9,
      "id": "3da27599",
      "metadata": {
        "colab": {
          "base_uri": "https://localhost:8080/"
        },
        "id": "3da27599",
        "outputId": "9150046c-d58c-4c8d-9773-d22e50ba8785"
      },
      "outputs": [
        {
          "output_type": "execute_result",
          "data": {
            "text/plain": [
              "diagnosis_result       0.000\n",
              "radius                 9.000\n",
              "texture               11.000\n",
              "perimeter             52.000\n",
              "area                 202.000\n",
              "smoothness             0.070\n",
              "compactness            0.038\n",
              "symmetry               0.135\n",
              "fractal_dimension      0.053\n",
              "dtype: float64"
            ]
          },
          "metadata": {},
          "execution_count": 9
        }
      ],
      "source": [
        "#valores minimos de cada coluna\n",
        "df.min()"
      ]
    },
    {
      "cell_type": "code",
      "execution_count": 10,
      "id": "c34933eb",
      "metadata": {
        "colab": {
          "base_uri": "https://localhost:8080/"
        },
        "id": "c34933eb",
        "outputId": "540ecd9d-edff-4028-905d-efc89380c4e3"
      },
      "outputs": [
        {
          "output_type": "execute_result",
          "data": {
            "text/plain": [
              "diagnosis_result        1.000\n",
              "radius                 25.000\n",
              "texture                27.000\n",
              "perimeter             172.000\n",
              "area                 1878.000\n",
              "smoothness              0.143\n",
              "compactness             0.345\n",
              "symmetry                0.304\n",
              "fractal_dimension       0.097\n",
              "dtype: float64"
            ]
          },
          "metadata": {},
          "execution_count": 10
        }
      ],
      "source": [
        "#valores maximos de cada coluna\n",
        "df.max()"
      ]
    },
    {
      "cell_type": "code",
      "source": [
        "# computar a matriz de correlacao\n",
        "import seaborn as sns\n",
        "\n",
        "corr = df.corr()\n",
        "\n",
        "# Plotar a matriz como um mapa de calor\n",
        "sns.heatmap(corr, annot=True, cmap='coolwarm')"
      ],
      "metadata": {
        "colab": {
          "base_uri": "https://localhost:8080/",
          "height": 366
        },
        "id": "4zD-7FQ4GfSg",
        "outputId": "92c73e9b-aaeb-4b39-ba7c-6bb702b440cf"
      },
      "id": "4zD-7FQ4GfSg",
      "execution_count": 11,
      "outputs": [
        {
          "output_type": "execute_result",
          "data": {
            "text/plain": [
              "<AxesSubplot:>"
            ]
          },
          "metadata": {},
          "execution_count": 11
        },
        {
          "output_type": "display_data",
          "data": {
            "text/plain": [
              "<Figure size 432x288 with 2 Axes>"
            ],
            "image/png": "[encoded data removed]"
          },
          "metadata": {
            "needs_background": "light"
          }
        }
      ]
    },
    {
      "cell_type": "code",
      "execution_count": 27,
      "id": "32fecffe",
      "metadata": {
        "colab": {
          "base_uri": "https://localhost:8080/",
          "height": 206
        },
        "id": "32fecffe",
        "outputId": "5d703630-ebdd-4276-e054-905f06c6b669"
      },
      "outputs": [
        {
          "output_type": "execute_result",
          "data": {
            "text/plain": [
              "    diagnosis_result  radius  texture  perimeter      area  smoothness  \\\n",
              "95                 0  0.8750   0.3125   0.666667  0.633652    0.287671   \n",
              "96                 1  0.8125   0.1875   0.216667  0.148568    0.479452   \n",
              "97                 1  0.6250   1.0000   0.083333  0.055489    0.438356   \n",
              "98                 1  0.7500   0.8125   0.183333  0.125895    0.273973   \n",
              "99                 0  0.4375   1.0000   0.350000  0.263126    0.383562   \n",
              "\n",
              "    compactness  symmetry  fractal_dimension  \n",
              "95     0.302932  0.443787           0.068182  \n",
              "96     0.107492  0.325444           0.295455  \n",
              "97     0.048860  0.000000           0.363636  \n",
              "98     0.120521  0.159763           0.295455  \n",
              "99     0.247557  0.313609           0.250000  "
            ],
            "text/html": [
              "\n",
              "  <div id=\"df-743657d4-0080-4750-9667-6797f39bb285\">\n",
              "    <div class=\"colab-df-container\">\n",
              "      <div>\n",
              "<style scoped>\n",
              "    .dataframe tbody tr th:only-of-type {\n",
              "        vertical-align: middle;\n",
              "    }\n",
              "\n",
              "    .dataframe tbody tr th {\n",
              "        vertical-align: top;\n",
              "    }\n",
              "\n",
              "    .dataframe thead th {\n",
              "        text-align: right;\n",
              "    }\n",
              "</style>\n",
              "<table border=\"1\" class=\"dataframe\">\n",
              "  <thead>\n",
              "    <tr style=\"text-align: right;\">\n",
              "      <th></th>\n",
              "      <th>diagnosis_result</th>\n",
              "      <th>radius</th>\n",
              "      <th>texture</th>\n",
              "      <th>perimeter</th>\n",
              "      <th>area</th>\n",
              "      <th>smoothness</th>\n",
              "      <th>compactness</th>\n",
              "      <th>symmetry</th>\n",
              "      <th>fractal_dimension</th>\n",
              "    </tr>\n",
              "  </thead>\n",
              "  <tbody>\n",
              "    <tr>\n",
              "      <th>95</th>\n",
              "      <td>0</td>\n",
              "      <td>0.8750</td>\n",
              "      <td>0.3125</td>\n",
              "      <td>0.666667</td>\n",
              "      <td>0.633652</td>\n",
              "      <td>0.287671</td>\n",
              "      <td>0.302932</td>\n",
              "      <td>0.443787</td>\n",
              "      <td>0.068182</td>\n",
              "    </tr>\n",
              "    <tr>\n",
              "      <th>96</th>\n",
              "      <td>1</td>\n",
              "      <td>0.8125</td>\n",
              "      <td>0.1875</td>\n",
              "      <td>0.216667</td>\n",
              "      <td>0.148568</td>\n",
              "      <td>0.479452</td>\n",
              "      <td>0.107492</td>\n",
              "      <td>0.325444</td>\n",
              "      <td>0.295455</td>\n",
              "    </tr>\n",
              "    <tr>\n",
              "      <th>97</th>\n",
              "      <td>1</td>\n",
              "      <td>0.6250</td>\n",
              "      <td>1.0000</td>\n",
              "      <td>0.083333</td>\n",
              "      <td>0.055489</td>\n",
              "      <td>0.438356</td>\n",
              "      <td>0.048860</td>\n",
              "      <td>0.000000</td>\n",
              "      <td>0.363636</td>\n",
              "    </tr>\n",
              "    <tr>\n",
              "      <th>98</th>\n",
              "      <td>1</td>\n",
              "      <td>0.7500</td>\n",
              "      <td>0.8125</td>\n",
              "      <td>0.183333</td>\n",
              "      <td>0.125895</td>\n",
              "      <td>0.273973</td>\n",
              "      <td>0.120521</td>\n",
              "      <td>0.159763</td>\n",
              "      <td>0.295455</td>\n",
              "    </tr>\n",
              "    <tr>\n",
              "      <th>99</th>\n",
              "      <td>0</td>\n",
              "      <td>0.4375</td>\n",
              "      <td>1.0000</td>\n",
              "      <td>0.350000</td>\n",
              "      <td>0.263126</td>\n",
              "      <td>0.383562</td>\n",
              "      <td>0.247557</td>\n",
              "      <td>0.313609</td>\n",
              "      <td>0.250000</td>\n",
              "    </tr>\n",
              "  </tbody>\n",
              "</table>\n",
              "</div>\n",
              "      <button class=\"colab-df-convert\" onclick=\"convertToInteractive('df-743657d4-0080-4750-9667-6797f39bb285')\"\n",
              "              title=\"Convert this dataframe to an interactive table.\"\n",
              "              style=\"display:none;\">\n",
              "        \n",
              "  <svg xmlns=\"http://www.w3.org/2000/svg\" height=\"24px\"viewBox=\"0 0 24 24\"\n",
              "       width=\"24px\">\n",
              "    <path d=\"M0 0h24v24H0V0z\" fill=\"none\"/>\n",
              "    <path d=\"M18.56 5.44l.94 2.06.94-2.06 2.06-.94-2.06-.94-.94-2.06-.94 2.06-2.06.94zm-11 1L8.5 8.5l.94-2.06 2.06-.94-2.06-.94L8.5 2.5l-.94 2.06-2.06.94zm10 10l.94 2.06.94-2.06 2.06-.94-2.06-.94-.94-2.06-.94 2.06-2.06.94z\"/><path d=\"M17.41 7.96l-1.37-1.37c-.4-.4-.92-.59-1.43-.59-.52 0-1.04.2-1.43.59L10.3 9.45l-7.72 7.72c-.78.78-.78 2.05 0 2.83L4 21.41c.39.39.9.59 1.41.59.51 0 1.02-.2 1.41-.59l7.78-7.78 2.81-2.81c.8-.78.8-2.07 0-2.86zM5.41 20L4 18.59l7.72-7.72 1.47 1.35L5.41 20z\"/>\n",
              "  </svg>\n",
              "      </button>\n",
              "      \n",
              "  <style>\n",
              "    .colab-df-container {\n",
              "      display:flex;\n",
              "      flex-wrap:wrap;\n",
              "      gap: 12px;\n",
              "    }\n",
              "\n",
              "    .colab-df-convert {\n",
              "      background-color: #E8F0FE;\n",
              "      border: none;\n",
              "      border-radius: 50%;\n",
              "      cursor: pointer;\n",
              "      display: none;\n",
              "      fill: #1967D2;\n",
              "      height: 32px;\n",
              "      padding: 0 0 0 0;\n",
              "      width: 32px;\n",
              "    }\n",
              "\n",
              "    .colab-df-convert:hover {\n",
              "      background-color: #E2EBFA;\n",
              "      box-shadow: 0px 1px 2px rgba(60, 64, 67, 0.3), 0px 1px 3px 1px rgba(60, 64, 67, 0.15);\n",
              "      fill: #174EA6;\n",
              "    }\n",
              "\n",
              "    [theme=dark] .colab-df-convert {\n",
              "      background-color: #3B4455;\n",
              "      fill: #D2E3FC;\n",
              "    }\n",
              "\n",
              "    [theme=dark] .colab-df-convert:hover {\n",
              "      background-color: #434B5C;\n",
              "      box-shadow: 0px 1px 3px 1px rgba(0, 0, 0, 0.15);\n",
              "      filter: drop-shadow(0px 1px 2px rgba(0, 0, 0, 0.3));\n",
              "      fill: #FFFFFF;\n",
              "    }\n",
              "  </style>\n",
              "\n",
              "      <script>\n",
              "        const buttonEl =\n",
              "          document.querySelector('#df-743657d4-0080-4750-9667-6797f39bb285 button.colab-df-convert');\n",
              "        buttonEl.style.display =\n",
              "          google.colab.kernel.accessAllowed ? 'block' : 'none';\n",
              "\n",
              "        async function convertToInteractive(key) {\n",
              "          const element = document.querySelector('#df-743657d4-0080-4750-9667-6797f39bb285');\n",
              "          const dataTable =\n",
              "            await google.colab.kernel.invokeFunction('convertToInteractive',\n",
              "                                                     [key], {});\n",
              "          if (!dataTable) return;\n",
              "\n",
              "          const docLinkHtml = 'Like what you see? Visit the ' +\n",
              "            '<a target=\"_blank\" href=https://colab.research.google.com/notebooks/data_table.ipynb>data table notebook</a>'\n",
              "            + ' to learn more about interactive tables.';\n",
              "          element.innerHTML = '';\n",
              "          dataTable['output_type'] = 'display_data';\n",
              "          await google.colab.output.renderOutput(dataTable, element);\n",
              "          const docLink = document.createElement('div');\n",
              "          docLink.innerHTML = docLinkHtml;\n",
              "          element.appendChild(docLink);\n",
              "        }\n",
              "      </script>\n",
              "    </div>\n",
              "  </div>\n",
              "  "
            ]
          },
          "metadata": {},
          "execution_count": 27
        }
      ],
      "source": [
        "#normalizar entre 0 e 1 os atributos\n",
        "scaler = MinMaxScaler()\n",
        "df[['radius', 'texture', 'area', 'smoothness','compactness','symmetry','fractal_dimension']] = scaler.fit_transform(df[['radius', 'texture','area', 'smoothness','compactness','symmetry','fractal_dimension']])\n",
        "df.tail()"
      ]
    },
    {
      "cell_type": "code",
      "execution_count": 28,
      "id": "31a1b551",
      "metadata": {
        "id": "31a1b551"
      },
      "outputs": [],
      "source": [
        "#Separar entre x e y\n",
        "x = df[['radius', 'texture','area',\n",
        "       'smoothness', 'compactness', 'symmetry', 'fractal_dimension']]\n",
        "y = df['diagnosis_result']"
      ]
    },
    {
      "cell_type": "code",
      "execution_count": 14,
      "id": "a83d154f",
      "metadata": {
        "id": "a83d154f"
      },
      "outputs": [],
      "source": [
        "#dividir entre treino e teste\n",
        "from sklearn.model_selection import train_test_split\n",
        "X_train, X_test, y_train, y_test = train_test_split(x, y, test_size=0.25)"
      ]
    },
    {
      "cell_type": "code",
      "source": [
        "# hyperparameters for Random forest\n",
        "from sklearn.ensemble import RandomForestClassifier\n",
        "from sklearn.model_selection import GridSearchCV\n",
        "from sklearn.metrics import make_scorer, accuracy_score\n",
        "#Possible hyperparameters\n",
        "param_grid = {\n",
        "    'n_estimators': [10, 30 ,50, 100, 200,300],\n",
        "    'max_depth': [1, 5, 10, 20,30,40],\n",
        "    'min_samples_split': [2, 4, 6, 8,10,15],\n",
        "    'min_samples_leaf': [1, 2, 3,5,7],\n",
        "    'max_features': ['sqrt', 'log2', None]\n",
        "}\n",
        "\n",
        "classifier = RandomForestClassifier(random_state=0)\n",
        "\n",
        "scorer = make_scorer(accuracy_score)\n",
        "\n",
        "grid_search = GridSearchCV(classifier, param_grid=param_grid, scoring=scorer)\n",
        "\n",
        "\n",
        "grid_search.fit(X_train, y_train)\n",
        "\n",
        "# Avalia o modelo com o dataset de teste\n",
        "y_pred = grid_search.predict(X_test)\n",
        "accuracy = accuracy_score(y_test, y_pred)\n",
        "print(f\"Random Forest >>>>> Best params: {grid_search.best_params_}, Accuracy: {accuracy:.2f}\")"
      ],
      "metadata": {
        "colab": {
          "base_uri": "https://localhost:8080/"
        },
        "id": "CV4_vtucjLTN",
        "outputId": "8915882d-1411-4a95-bcf2-0feb748ea4fe"
      },
      "id": "CV4_vtucjLTN",
      "execution_count": null,
      "outputs": [
        {
          "output_type": "stream",
          "name": "stdout",
          "text": [
            "Random Forest >>>>> Best params: {'max_depth': 1, 'max_features': 'sqrt', 'min_samples_leaf': 7, 'min_samples_split': 2, 'n_estimators': 30}, Accuracy: 0.80\n"
          ]
        }
      ]
    },
    {
      "cell_type": "code",
      "execution_count": 15,
      "id": "55caa822",
      "metadata": {
        "id": "55caa822",
        "colab": {
          "base_uri": "https://localhost:8080/"
        },
        "outputId": "f9223a12-6a4d-480d-97dc-7d45fb285bae"
      },
      "outputs": [
        {
          "output_type": "stream",
          "name": "stdout",
          "text": [
            "Random Forest >>>>> Accuracy: 0.80, Precision: 0.82, Recall: 0.77, F1-score: 0.78\n"
          ]
        }
      ],
      "source": [
        "from sklearn.ensemble import RandomForestClassifier\n",
        "classifier = RandomForestClassifier(n_estimators = 30, criterion = 'entropy', random_state = 0,max_depth = 1,min_samples_leaf = 7,min_samples_split = 2)\n",
        "# Train classifier on training data\n",
        "classifier.fit(X_train, y_train)\n",
        "\n",
        "# Evaluate classifier on testing data\n",
        "y_pred = classifier.predict(X_test)\n",
        "\n",
        "from sklearn.metrics import accuracy_score, precision_score, recall_score, f1_score\n",
        "accuracy = accuracy_score(y_test, y_pred)\n",
        "precision = precision_score(y_test, y_pred, average='macro')\n",
        "recall = recall_score(y_test, y_pred, average='macro')\n",
        "f1 = f1_score(y_test, y_pred, average='macro')\n",
        "print(f\"Random Forest >>>>> Accuracy: {accuracy:.2f}, Precision: {precision:.2f}, Recall: {recall:.2f}, F1-score: {f1:.2f}\")\n"
      ]
    },
    {
      "cell_type": "code",
      "source": [
        "#hyperparameters determination for naive bayes\n",
        "from sklearn.model_selection import train_test_split\n",
        "X_train, X_test, y_train, y_test = train_test_split(x, y, test_size=0.25)\n",
        "from sklearn.naive_bayes import GaussianNB\n",
        "from sklearn.model_selection import GridSearchCV\n",
        "\n",
        "classifier = GaussianNB()\n",
        "\n",
        "#values to be tested as var smoothing\n",
        "param_grid = {'var_smoothing': [0,1e-100,1e-25,1e-20,1e-15,1e-13,1e-11,1e-10,1e-9, 1e-8, 1e-7, 1e-6, 1e-5]}\n",
        "\n",
        "grid_search = GridSearchCV(classifier, param_grid, cv=5)\n",
        "grid_search.fit(X_train, y_train)\n",
        "\n",
        "y_pred = grid_search.predict(X_test)\n",
        "accuracy = accuracy_score(y_test, y_pred)\n",
        "\n",
        "\n",
        "print(\"Best parameters: \", grid_search.best_params_)\n",
        "print(f\"Accuracy: {accuracy:.2f}\")\n",
        "\n"
      ],
      "metadata": {
        "colab": {
          "base_uri": "https://localhost:8080/"
        },
        "id": "8HTHFuyppwQR",
        "outputId": "63e709e2-1656-4af7-8399-2753e6084ad0"
      },
      "id": "8HTHFuyppwQR",
      "execution_count": 30,
      "outputs": [
        {
          "output_type": "stream",
          "name": "stdout",
          "text": [
            "Best parameters:  {'var_smoothing': 0}\n",
            "Accuracy: 0.84\n"
          ]
        }
      ]
    },
    {
      "cell_type": "code",
      "source": [
        "\n",
        "\n",
        "from sklearn.naive_bayes import GaussianNB\n",
        "classifier = GaussianNB(var_smoothing = 0)\n",
        "\n",
        "# Train classifier on training data\n",
        "classifier.fit(X_train, y_train)\n",
        "\n",
        "# Evaluate classifier on testing data\n",
        "y_pred = classifier.predict(X_test)\n",
        "from sklearn.metrics import accuracy_score, precision_score, recall_score, f1_score\n",
        "accuracy = accuracy_score(y_test, y_pred)\n",
        "precision = precision_score(y_test, y_pred)\n",
        "recall = recall_score(y_test, y_pred)\n",
        "f1 = f1_score(y_test, y_pred)\n",
        "print(f\"Naive Bayes >>>>> Accuracy: {accuracy:.2f}, Precision: {precision:.2f}, Recall: {recall:.2f}, F1-score: {f1:.2f}\")"
      ],
      "metadata": {
        "colab": {
          "base_uri": "https://localhost:8080/"
        },
        "id": "RkzshOAcKB_o",
        "outputId": "5dfc337d-3ab9-4262-a213-2347eaa4840c"
      },
      "id": "RkzshOAcKB_o",
      "execution_count": 32,
      "outputs": [
        {
          "output_type": "stream",
          "name": "stdout",
          "text": [
            "Naive Bayes >>>>> Accuracy: 0.84, Precision: 0.84, Recall: 0.84, F1-score: 0.84\n"
          ]
        }
      ]
    },
    {
      "cell_type": "code",
      "source": [
        "from sklearn.model_selection import train_test_split\n",
        "X_train, X_test, y_train, y_test = train_test_split(x, y, test_size=0.25)\n",
        "\n",
        "from sklearn.model_selection import GridSearchCV\n",
        "from sklearn.svm import LinearSVC\n",
        "\n",
        "param_grid = {'C': [0.1, 1, 10],\n",
        "              'tol': [1e-4, 1e-3, 1e-2],\n",
        "              'max_iter': [100,300, 500, 1000],\n",
        "              'class_weight': [None, 'balanced']}\n",
        "\n",
        "model = LinearSVC()\n",
        "\n",
        "grid_search = GridSearchCV(model, param_grid=param_grid, cv=5, n_jobs=-1)\n",
        "grid_search.fit(X_train, y_train)\n",
        "\n",
        "print('Melhores hiperparâmetros:', grid_search.best_params_)\n",
        "print('Melhor score:', grid_search.best_score_)\n"
      ],
      "metadata": {
        "colab": {
          "base_uri": "https://localhost:8080/"
        },
        "id": "RQNTPB4htJDw",
        "outputId": "befb7597-77d3-41db-dcba-8f41c36a4d5b"
      },
      "id": "RQNTPB4htJDw",
      "execution_count": 44,
      "outputs": [
        {
          "output_type": "stream",
          "name": "stdout",
          "text": [
            "Melhores hiperparâmetros: {'C': 10, 'class_weight': 'balanced', 'max_iter': 100, 'tol': 0.001}\n",
            "Melhor score: 0.8666666666666668\n"
          ]
        },
        {
          "output_type": "stream",
          "name": "stderr",
          "text": [
            "/usr/local/lib/python3.8/dist-packages/sklearn/svm/_base.py:1244: ConvergenceWarning: Liblinear failed to converge, increase the number of iterations.\n",
            "  warnings.warn(\n"
          ]
        }
      ]
    },
    {
      "cell_type": "code",
      "source": [
        "### SUPPORT VECTOR MACHINE\n",
        "from sklearn.model_selection import train_test_split\n",
        "X_train, X_test, y_train, y_test = train_test_split(x, y, test_size=0.25)\n",
        "from sklearn.svm import LinearSVC\n",
        "\n",
        "classifier = LinearSVC(C= 1,class_weight = 'balanced',max_iter= 100, tol =0.001)\n",
        "\n",
        "classifier.fit(X_train, y_train)\n",
        "\n",
        "# Evaluate classifier on testing data\n",
        "y_pred = classifier.predict(X_test)\n",
        "from sklearn.metrics import accuracy_score, precision_score, recall_score, f1_score\n",
        "accuracy = accuracy_score(y_test, y_pred)\n",
        "precision = precision_score(y_test, y_pred)\n",
        "recall = recall_score(y_test, y_pred)\n",
        "f1 = f1_score(y_test, y_pred)\n",
        "print(f\"Linear SVC >>>>> Accuracy: {accuracy:.2f}, Precision: {precision:.2f}, Recall: {recall:.2f}, F1-score: {f1:.2f}\")"
      ],
      "metadata": {
        "colab": {
          "base_uri": "https://localhost:8080/"
        },
        "id": "yjUhHB8rKHy_",
        "outputId": "a8dd3b38-aa8f-4b56-aa6f-f9d415e958d0"
      },
      "id": "yjUhHB8rKHy_",
      "execution_count": 46,
      "outputs": [
        {
          "output_type": "stream",
          "name": "stdout",
          "text": [
            "Linear SVC >>>>> Accuracy: 0.80, Precision: 0.88, Recall: 0.64, F1-score: 0.74\n"
          ]
        }
      ]
    },
    {
      "cell_type": "code",
      "source": [
        "#Descobrir o melhor número de vizinhos\n",
        "from sklearn.model_selection import train_test_split\n",
        "X_train, X_test, y_train, y_test = train_test_split(x, y, test_size=0.25)\n",
        "\n",
        "knn = KNeighborsClassifier()\n",
        "from sklearn.model_selection import GridSearchCV\n",
        "\n",
        "param_grid = {'n_neighbors': np.arange(1, 12)}\n",
        "grid_search = GridSearchCV(knn, param_grid, cv=5)\n",
        "grid_search.fit(X_train, y_train)\n",
        "\n",
        "print(\"Best n_neighbors:\", grid_search.best_params_['n_neighbors'])\n",
        "print(\"Accuracy:\", grid_search.best_score_)"
      ],
      "metadata": {
        "colab": {
          "base_uri": "https://localhost:8080/"
        },
        "id": "Kwz5xyGrLG2d",
        "outputId": "470f6236-1c60-48ee-94cb-6b2d9adf25c8"
      },
      "id": "Kwz5xyGrLG2d",
      "execution_count": 54,
      "outputs": [
        {
          "output_type": "stream",
          "name": "stdout",
          "text": [
            "Best n_neighbors: 3\n",
            "Accuracy: 0.8533333333333335\n"
          ]
        }
      ]
    },
    {
      "cell_type": "code",
      "source": [
        "### KNN\n",
        "\n",
        "\n",
        "# Create KNN classifier\n",
        "from sklearn.neighbors import KNeighborsClassifier\n",
        "knn = KNeighborsClassifier(n_neighbors=5)\n",
        "\n",
        "# Fit the classifier to the training data\n",
        "knn.fit(X_train, y_train)\n",
        "\n",
        "# Make predictions on the test data\n",
        "y_pred = knn.predict(X_test)\n",
        "\n",
        "# Calculate accuracy\n",
        "from sklearn.metrics import accuracy_score, precision_score, recall_score, f1_score\n",
        "accuracy = accuracy_score(y_test, y_pred)\n",
        "precision = precision_score(y_test, y_pred)\n",
        "recall = recall_score(y_test, y_pred)\n",
        "f1 = f1_score(y_test, y_pred)\n",
        "print(f\"KNN >>>>> Accuracy: {accuracy:.2f}, Precision: {precision:.2f}, Recall: {recall:.2f}, F1-score: {f1:.2f}\")\n",
        "    "
      ],
      "metadata": {
        "colab": {
          "base_uri": "https://localhost:8080/"
        },
        "id": "HGs96vUWek-m",
        "outputId": "a8817541-954c-43ed-a9b9-e431add8d2cc"
      },
      "id": "HGs96vUWek-m",
      "execution_count": 55,
      "outputs": [
        {
          "output_type": "stream",
          "name": "stdout",
          "text": [
            "KNN >>>>> Accuracy: 0.76, Precision: 0.64, Recall: 0.90, F1-score: 0.75\n"
          ]
        }
      ]
    },
    {
      "cell_type": "code",
      "source": [
        "\n",
        "import numpy as np\n",
        "from sklearn.metrics import accuracy_score\n",
        "\n",
        "def stratified_k_fold_cross_validation(X, y, model, k=5):\n",
        "    X = np.array(X)\n",
        "    y = np.array(y)\n",
        "    indices = np.arange(X.shape[0])\n",
        "    np.random.shuffle(indices)\n",
        "    X = X[indices]\n",
        "    y = y[indices]\n",
        "    fold_size = X.shape[0] // k\n",
        "    #if number of samples = 20 and K = 5 => 20\n",
        "    accuracy = []\n",
        "    for i in range(k):\n",
        "        start_fold = i * fold_size\n",
        "        \n",
        "        end_fold = (i + 1) * fold_size\n",
        "        #split test in 20:40,49:60, etc\n",
        "        X_test = X[start_fold:end_fold]\n",
        "        y_test = y[start_fold:end_fold]\n",
        "        #split test in what is remaining\n",
        "        X_train = np.concatenate((X[:start_fold], X[end_fold:]))\n",
        "        y_train = np.concatenate((y[:start_fold], y[end_fold:]))\n",
        "        \n",
        "        # index of each class\n",
        "        class_indices = []\n",
        "        #print(\"y train: \")\n",
        "        #print(y_train)\n",
        "        for val in np.unique(y_train):\n",
        "            class_indices.append(np.where(y_train == val)[0])\n",
        "        #print(\"indices: \")\n",
        "        #print(class_indices)\n",
        "        \n",
        "        \n",
        "        \n",
        "        # randomize the indexes\n",
        "        for indices in class_indices:\n",
        "            np.random.shuffle(indices)\n",
        "        \n",
        "        # split classes in k folds of equal size\n",
        "        class_folds = [np.array_split(indices, k) for indices in class_indices]\n",
        "        #print(\"class folds:\")\n",
        "        #print(class_folds)\n",
        "        \n",
        "\n",
        "        \n",
        "        # Combine the folds to create the training indices for each fold\n",
        "        train_indices = []\n",
        "        for i in range(k):\n",
        "            fold_indices = [indices[i] for indices in class_folds]\n",
        "            train_indices.append(np.concatenate(fold_indices))\n",
        "        train_indices = np.concatenate(train_indices)\n",
        "        #print(train_indices)\n",
        "        \n",
        "        # Train\n",
        "        model.fit(X_train[train_indices], y_train[train_indices])\n",
        "        #Evaluate\n",
        "        y_pred = model.predict(X_test)\n",
        "        accuracy.append(accuracy_score(y_test, y_pred))\n",
        "    \n",
        "    return accuracy\n",
        "model = LinearSVC()\n",
        "print(stratified_k_fold_cross_validation(x, y, model,k=5))"
      ],
      "metadata": {
        "colab": {
          "base_uri": "https://localhost:8080/"
        },
        "id": "D3iDFmq9eyz8",
        "outputId": "d9e47d52-efac-4ed2-8e5f-30b4b623a83e"
      },
      "id": "D3iDFmq9eyz8",
      "execution_count": 20,
      "outputs": [
        {
          "output_type": "stream",
          "name": "stdout",
          "text": [
            "[0.8, 0.9, 0.75, 0.8, 0.8]\n"
          ]
        }
      ]
    },
    {
      "cell_type": "code",
      "source": [
        "class ConfusionMatrix():\n",
        "    def __init__(self, actual,predicted):\n",
        "        self.predicted = predicted\n",
        "        self.actual = actual\n",
        "        self.matrix = self.calculate_matrix()\n",
        "        self.true_positive = self.matrix[1][1]\n",
        "\n",
        "        self.false_positive = self.matrix[0][1]\n",
        "  \n",
        "        self.false_negative = self.matrix[1][0]\n",
        "  \n",
        "        self.true_negative = self.matrix[0][0]\n",
        "\n",
        "        self.accuracy_val = self.calculate_accuracy()\n",
        "        self.precision_val = self.calculate_precision()\n",
        "        self.recall_val = self.calculate_recall()\n",
        "        self.f1_score_val = self.calculate_f1_score()\n",
        "\n",
        "    def calculate_matrix(self) -> np.array:\n",
        "        classes = np.unique(self.actual)\n",
        "        matrix = np.zeros((len(classes), len(classes)), dtype=int)\n",
        "\n",
        "        for i, j in enumerate(classes):\n",
        "            matrix[i] = np.bincount(self.predicted[self.actual == j], minlength=len(classes))\n",
        "\n",
        "        return matrix\n",
        "\n",
        "    def calculate_accuracy(self) -> float:\n",
        "        \"\"\"accuracy = (TP + TN) / (TP + TN + FP + FN)\"\"\"\n",
        "        all_sum = np.sum(self.matrix)\n",
        "        accuracy = (self.true_positive + self.true_negative) / all_sum\n",
        "        return accuracy\n",
        "\n",
        "    def calculate_precision(self) -> float:\n",
        "        \"\"\" precision = tp / tp+fp \"\"\"\n",
        "        precision = self.true_positive / (self.true_positive + self.false_positive)\n",
        "        return precision\n",
        "\n",
        "    def calculate_recall(self) -> float:\n",
        "        \"\"\"recall = TP / (TP + FN)\"\"\"\n",
        "        recall = self.true_positive / (self.true_positive + self.false_negative)\n",
        "        return recall\n",
        "\n",
        "    def calculate_f1_score(self) -> float:\n",
        "        \"\"\"F1 = 2 * (precision * recall) / (precision + recall)\"\"\"\n",
        "        f1_score = 2 * (self.precision_val * self.recall_val) / (self.precision_val + self.recall_val)\n",
        "        return f1_score\n",
        "confusion_matrix = ConfusionMatrix(y_test,y_pred)\n",
        "print(\"matrix:\")\n",
        "print(confusion_matrix.matrix)\n",
        "print(\"acc:\")\n",
        "print(confusion_matrix.accuracy_val)\n",
        "print(\"precision:\")\n",
        "print(confusion_matrix.precision_val)\n",
        "print(\"recall:\")\n",
        "print(confusion_matrix.recall_val)\n",
        "print(\"f1: \")\n",
        "print(confusion_matrix.f1_score_val)"
      ],
      "metadata": {
        "colab": {
          "base_uri": "https://localhost:8080/"
        },
        "id": "amJ8emtcBDS7",
        "outputId": "5228dce4-9e26-4694-ac19-54eb0f6d3587"
      },
      "id": "amJ8emtcBDS7",
      "execution_count": 59,
      "outputs": [
        {
          "output_type": "stream",
          "name": "stdout",
          "text": [
            "matrix:\n",
            "[[13  1]\n",
            " [ 2  4]]\n",
            "acc:\n",
            "0.85\n",
            "precision:\n",
            "0.8\n",
            "recall:\n",
            "0.6666666666666666\n",
            "f1: \n",
            "0.7272727272727272\n"
          ]
        }
      ]
    },
    {
      "cell_type": "code",
      "source": [
        "##### test with sklearn library #####\n",
        "\n",
        "from sklearn.metrics import confusion_matrix, accuracy_score, precision_score, recall_score, f1_score\n",
        "\n",
        "\n",
        "\n",
        "actual = y_test\n",
        "predicted = y_pred\n",
        "\n",
        "# Calculate confusion matrix\n",
        "cm = confusion_matrix(actual, predicted)\n",
        "\n",
        "\n",
        "# Calculate accuracy\n",
        "acc = accuracy_score(actual, predicted)\n",
        "\n",
        "# Calculate precision\n",
        "precision = precision_score(actual, predicted)\n",
        "\n",
        "# Calculate recall\n",
        "recall = recall_score(actual, predicted)\n",
        "\n",
        "# Calculate F1 score\n",
        "f1 = f1_score(actual, predicted)\n",
        "\n",
        "\n",
        "print('Confusion matrix:')\n",
        "print(cm)\n",
        "print('Accuracy:', acc)\n",
        "print('Precision:', precision)\n",
        "print('Recall:', recall)\n",
        "print('F1 score:', f1)\n"
      ],
      "metadata": {
        "colab": {
          "base_uri": "https://localhost:8080/"
        },
        "id": "6Nk-iwKPJqgQ",
        "outputId": "73e81626-35bd-4316-b0c5-e31f018a5275"
      },
      "id": "6Nk-iwKPJqgQ",
      "execution_count": 22,
      "outputs": [
        {
          "output_type": "stream",
          "name": "stdout",
          "text": [
            "Confusion matrix:\n",
            "[[15  2]\n",
            " [ 1  2]]\n",
            "Accuracy: 0.85\n",
            "Precision: 0.5\n",
            "Recall: 0.6666666666666666\n",
            "F1 score: 0.5714285714285715\n"
          ]
        }
      ]
    },
    {
      "cell_type": "code",
      "source": [
        "# knn\n",
        "print(\"\\n- - - -  knn - - - - \")\n",
        "X_train, X_test, y_train, y_test = train_test_split(x, y, test_size=0.20)\n",
        "knn = KNeighborsClassifier(n_neighbors=5)\n",
        "knn.fit(X_train, y_train)\n",
        "y_pred = knn.predict(X_test)\n",
        "confusion_matrix = ConfusionMatrix(y_test,y_pred)\n",
        "print(\"matrix KNN:\")\n",
        "print(confusion_matrix.matrix)\n",
        "print(\"acc KNN:\")\n",
        "print(confusion_matrix.accuracy_val)\n",
        "print(\"precision KNN:\")\n",
        "print(confusion_matrix.precision_val)\n",
        "print(\"recall KNN:\")\n",
        "print(confusion_matrix.recall_val)\n",
        "print(\"f1 KNN: \")\n",
        "print(confusion_matrix.f1_score_val)\n",
        "print(\"stratified k fold cross validation =  \")\n",
        "print(stratified_k_fold_cross_validation(x, y, knn,k=5))\n",
        "\n",
        "\n",
        "print(\"\\n- - - -  Random forest - - - - \")\n",
        "X_train, X_test, y_train, y_test = train_test_split(x, y, test_size=0.20)\n",
        "classifier = RandomForestClassifier(n_estimators = 30, criterion = 'entropy', random_state = 0,max_depth = 1,min_samples_leaf = 7,min_samples_split = 2)\n",
        "\n",
        "classifier.fit(X_train, y_train)\n",
        "y_pred = classifier.predict(X_test)\n",
        "print(\"matrix RF:\")\n",
        "print(confusion_matrix.matrix)\n",
        "print(\"acc RF:\")\n",
        "print(confusion_matrix.accuracy_val)\n",
        "print(\"precision RF:\")\n",
        "print(confusion_matrix.precision_val)\n",
        "print(\"recall RF:\")\n",
        "print(confusion_matrix.recall_val)\n",
        "print(\"f1 RF: \")\n",
        "print(confusion_matrix.f1_score_val)\n",
        "print(\"stratified k fold cross validation =  \")\n",
        "print(stratified_k_fold_cross_validation(x, y, classifier,k=5))\n",
        "\n",
        "\n",
        "\n",
        "print(\"\\n- - - -  naive bayes - - - - \")\n",
        "X_train, X_test, y_train, y_test = train_test_split(x, y, test_size=0.20)\n",
        "classifier = GaussianNB()\n",
        "classifier.fit(X_train, y_train)\n",
        "y_pred = classifier.predict(X_test)\n",
        "\n",
        "confusion_matrix = ConfusionMatrix(y_test,y_pred)\n",
        "print(\"matrix naive bayes:\")\n",
        "print(confusion_matrix.matrix)\n",
        "print(\"acc naive bayes:\")\n",
        "print(confusion_matrix.accuracy_val)\n",
        "print(\"precision naive bayes:\")\n",
        "print(confusion_matrix.precision_val)\n",
        "print(\"recall naive bayes:\")\n",
        "print(confusion_matrix.recall_val)\n",
        "print(\"f1 naive bayes: \")\n",
        "print(confusion_matrix.f1_score_val)\n",
        "print(\"stratified k fold cross validation =  \")\n",
        "print(stratified_k_fold_cross_validation(x, y, classifier,k=5))\n",
        "\n",
        "print(\"\\n- - - -  SVN - - - - \")\n",
        "#svn\n",
        "X_train, X_test, y_train, y_test = train_test_split(x, y, test_size=0.20)\n",
        "classifier = LinearSVC(C= 1,class_weight = 'balanced',max_iter= 100, tol =0.001)\n",
        "classifier.fit(X_train, y_train)\n",
        "y_pred = classifier.predict(X_test)\n",
        "\n",
        "confusion_matrix = ConfusionMatrix(y_test,y_pred)\n",
        "print(\"matrix SVN:\")\n",
        "print(confusion_matrix.matrix)\n",
        "print(\"acc SVN:\")\n",
        "print(confusion_matrix.accuracy_val)\n",
        "print(\"precision SVN:\")\n",
        "print(confusion_matrix.precision_val)\n",
        "print(\"recall SVN:\")\n",
        "print(confusion_matrix.recall_val)\n",
        "print(\"f1 SVN: \")\n",
        "print(confusion_matrix.f1_score_val)\n",
        "print(\"stratified k fold cross validation =  \")\n",
        "print(stratified_k_fold_cross_validation(x, y, classifier,k=5))\n",
        "\n",
        "\n"
      ],
      "metadata": {
        "id": "8qdIeoM_LjRx",
        "colab": {
          "base_uri": "https://localhost:8080/"
        },
        "outputId": "5040c75b-a95e-4c8e-9d49-e62115d10bda"
      },
      "id": "8qdIeoM_LjRx",
      "execution_count": 60,
      "outputs": [
        {
          "output_type": "stream",
          "name": "stdout",
          "text": [
            "\n",
            "- - - -  knn - - - - \n",
            "matrix KNN:\n",
            "[[12  0]\n",
            " [ 2  6]]\n",
            "acc KNN:\n",
            "0.9\n",
            "precision KNN:\n",
            "1.0\n",
            "recall KNN:\n",
            "0.75\n",
            "f1 KNN: \n",
            "0.8571428571428571\n",
            "stratified k fold cross validation =  \n",
            "[0.85, 0.8, 0.8, 0.7, 0.8]\n",
            "\n",
            "- - - -  Random forest - - - - \n",
            "matrix RF:\n",
            "[[12  0]\n",
            " [ 2  6]]\n",
            "acc RF:\n",
            "0.9\n",
            "precision RF:\n",
            "1.0\n",
            "recall RF:\n",
            "0.75\n",
            "f1 RF: \n",
            "0.8571428571428571\n",
            "stratified k fold cross validation =  \n",
            "[0.85, 0.9, 0.85, 0.85, 0.85]\n",
            "\n",
            "- - - -  naive bayes - - - - \n",
            "matrix naive bayes:\n",
            "[[7 5]\n",
            " [1 7]]\n",
            "acc naive bayes:\n",
            "0.7\n",
            "precision naive bayes:\n",
            "0.5833333333333334\n",
            "recall naive bayes:\n",
            "0.875\n",
            "f1 naive bayes: \n",
            "0.7000000000000001\n",
            "stratified k fold cross validation =  \n",
            "[0.8, 0.7, 0.75, 0.75, 0.65]\n",
            "\n",
            "- - - -  SVN - - - - \n",
            "matrix SVN:\n",
            "[[10  1]\n",
            " [ 2  7]]\n",
            "acc SVN:\n",
            "0.85\n",
            "precision SVN:\n",
            "0.875\n",
            "recall SVN:\n",
            "0.7777777777777778\n",
            "f1 SVN: \n",
            "0.823529411764706\n",
            "stratified k fold cross validation =  \n",
            "[0.7, 0.95, 0.8, 0.85, 0.75]\n"
          ]
        }
      ]
    },
    {
      "cell_type": "code",
      "source": [],
      "metadata": {
        "id": "qpbsgVHAQBmp"
      },
      "id": "qpbsgVHAQBmp",
      "execution_count": null,
      "outputs": []
    }
  ],
  "metadata": {
    "kernelspec": {
      "display_name": "Python 3 (ipykernel)",
      "language": "python",
      "name": "python3"
    },
    "language_info": {
      "codemirror_mode": {
        "name": "ipython",
        "version": 3
      },
      "file_extension": ".py",
      "mimetype": "text/x-python",
      "name": "python",
      "nbconvert_exporter": "python",
      "pygments_lexer": "ipython3",
      "version": "3.7.3"
    },
    "latex_envs": {
      "LaTeX_envs_menu_present": true,
      "autoclose": false,
      "autocomplete": true,
      "bibliofile": "biblio.bib",
      "cite_by": "apalike",
      "current_citInitial": 1,
      "eqLabelWithNumbers": true,
      "eqNumInitial": 1,
      "hotkeys": {
        "equation": "Ctrl-E",
        "itemize": "Ctrl-I"
      },
      "labels_anchors": false,
      "latex_user_defs": false,
      "report_style_numbering": false,
      "user_envs_cfg": false
    },
    "varInspector": {
      "cols": {
        "lenName": 16,
        "lenType": 16,
        "lenVar": 40
      },
      "kernels_config": {
        "python": {
          "delete_cmd_postfix": "",
          "delete_cmd_prefix": "del ",
          "library": "var_list.py",
          "varRefreshCmd": "print(var_dic_list())"
        },
        "r": {
          "delete_cmd_postfix": ") ",
          "delete_cmd_prefix": "rm(",
          "library": "var_list.r",
          "varRefreshCmd": "cat(var_dic_list()) "
        }
      },
      "types_to_exclude": [
        "module",
        "function",
        "builtin_function_or_method",
        "instance",
        "_Feature"
      ],
      "window_display": false
    },
    "colab": {
      "provenance": []
    }
  },
  "nbformat": 4,
  "nbformat_minor": 5
}